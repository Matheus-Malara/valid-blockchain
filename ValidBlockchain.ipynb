{
  "nbformat": 4,
  "nbformat_minor": 0,
  "metadata": {
    "colab": {
      "provenance": [],
      "authorship_tag": "ABX9TyOKIvEL/tCjN1WdPVZa9/uQ",
      "include_colab_link": true
    },
    "kernelspec": {
      "name": "python3",
      "display_name": "Python 3"
    },
    "language_info": {
      "name": "python"
    }
  },
  "cells": [
    {
      "cell_type": "markdown",
      "metadata": {
        "id": "view-in-github",
        "colab_type": "text"
      },
      "source": [
        "<a href=\"https://colab.research.google.com/github/Matheus-Malara/valid-blockchain/blob/main/ValidBlockchain.ipynb\" target=\"_parent\"><img src=\"https://colab.research.google.com/assets/colab-badge.svg\" alt=\"Open In Colab\"/></a>"
      ]
    },
    {
      "cell_type": "code",
      "execution_count": null,
      "metadata": {
        "colab": {
          "base_uri": "https://localhost:8080/"
        },
        "id": "rDDdbOY3kkgI",
        "outputId": "6eb3fad7-fef7-4868-b2f7-55db74c82cfd"
      },
      "outputs": [
        {
          "output_type": "stream",
          "name": "stdout",
          "text": [
            "[Verificação] O hash do bloco ainda é válido.\n",
            "\n",
            "[Alteração] O bloco foi alterado para: Data alterada 405\n",
            "[Verificação] O hash do bloco ainda é válido.\n",
            "\n",
            "[Alteração] O bloco foi alterado para: Data alterada 933\n",
            "\n",
            "[Invalidez detectada] O hash do bloco foi alterado! O bloco deve ser descartado.\n",
            "\n",
            "[Alteração] O bloco foi alterado para: Data alterada 864\n",
            "\n",
            "[Alteração] O bloco foi alterado para: Data alterada 90\n",
            "\n",
            "[Alteração] O bloco foi alterado para: Data alterada 746\n",
            "\n",
            "[Alteração] O bloco foi alterado para: Data alterada 5\n",
            "\n",
            "[Alteração] O bloco foi alterado para: Data alterada 91\n",
            "\n",
            "[Alteração] O bloco foi alterado para: Data alterada 999\n",
            "\n",
            "[Alteração] O bloco foi alterado para: Data alterada 240\n",
            "\n",
            "[Alteração] O bloco foi alterado para: Data alterada 417\n"
          ]
        }
      ],
      "source": [
        "import threading\n",
        "import hashlib\n",
        "import time\n",
        "import random\n",
        "\n",
        "# Estrutura de dados para o bloco\n",
        "class Block:\n",
        "    def __init__(self, data):\n",
        "        self.data = data\n",
        "        self.hash = self.calculate_hash()\n",
        "\n",
        "    def calculate_hash(self):\n",
        "        return hashlib.sha256(self.data.encode()).hexdigest()\n",
        "\n",
        "    def update_data(self, new_data):\n",
        "        self.data = new_data\n",
        "        self.hash = self.calculate_hash()\n",
        "\n",
        "# Função que altera o conteúdo do bloco periodicamente\n",
        "def alter_block(block, interval):\n",
        "    while True:\n",
        "        time.sleep(interval)\n",
        "        new_data = \"Data alterada \" + str(random.randint(0, 1000))\n",
        "        print(f\"\\n[Alteração] O bloco foi alterado para: {new_data}\")\n",
        "        block.update_data(new_data)\n",
        "\n",
        "# Função que checa a validade do hash periodicamente\n",
        "def check_block(block, original_data, interval):\n",
        "    original_hash = hashlib.sha256(original_data.encode()).hexdigest()\n",
        "    while True:\n",
        "        time.sleep(interval)\n",
        "        if block.hash != original_hash:\n",
        "            print(f\"\\n[Invalidez detectada] O hash do bloco foi alterado! O bloco deve ser descartado.\")\n",
        "            break\n",
        "        else:\n",
        "            print(f\"[Verificação] O hash do bloco ainda é válido.\")\n",
        "\n",
        "# Função principal\n",
        "def main():\n",
        "    # Criando um bloco inicial com alguns dados\n",
        "    original_data = \"Bloco inicial\"\n",
        "    block = Block(original_data)\n",
        "\n",
        "    # Intervalos para alterar e checar o bloco\n",
        "    alter_interval = 5  # Segundos para alterar o bloco\n",
        "    check_interval = 2  # Segundos para checar a validade\n",
        "\n",
        "    # Criando as threads para alterar o bloco e checar sua validade\n",
        "    alter_thread = threading.Thread(target=alter_block, args=(block, alter_interval))\n",
        "    check_thread = threading.Thread(target=check_block, args=(block, original_data, check_interval))\n",
        "\n",
        "    # Iniciando as threads\n",
        "    alter_thread.start()\n",
        "    check_thread.start()\n",
        "\n",
        "    # Esperando as threads finalizarem (opcional)\n",
        "    alter_thread.join()\n",
        "    check_thread.join()\n",
        "\n",
        "if __name__ == \"__main__\":\n",
        "    main()"
      ]
    }
  ]
}